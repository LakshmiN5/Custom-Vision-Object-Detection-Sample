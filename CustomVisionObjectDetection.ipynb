{
  "cells": [
    {
      "metadata": {
        "trusted": false
      },
      "cell_type": "code",
      "source": "# Using Object detection feature of Custom Vision Services \n# In this demo we'll use json output of VoTT Tool \n# Before starting you need to install customvision api using pip install",
      "execution_count": 1,
      "outputs": []
    },
    {
      "metadata": {
        "trusted": true
      },
      "cell_type": "code",
      "source": "!pip install azure-cognitiveservices-vision-customvision",
      "execution_count": 4,
      "outputs": [
        {
          "output_type": "stream",
          "text": "Requirement already satisfied: azure-cognitiveservices-vision-customvision in /home/nbuser/anaconda3_420/lib/python3.5/site-packages (0.4.0)\nRequirement already satisfied: msrest>=0.5.0 in /home/nbuser/anaconda3_420/lib/python3.5/site-packages (from azure-cognitiveservices-vision-customvision) (0.6.4)\nRequirement already satisfied: azure-common~=1.1 in /home/nbuser/anaconda3_420/lib/python3.5/site-packages (from azure-cognitiveservices-vision-customvision) (1.1.16)\nRequirement already satisfied: requests~=2.16 in /home/nbuser/anaconda3_420/lib/python3.5/site-packages (from msrest>=0.5.0->azure-cognitiveservices-vision-customvision) (2.21.0)\nRequirement already satisfied: certifi>=2017.4.17 in /home/nbuser/anaconda3_420/lib/python3.5/site-packages (from msrest>=0.5.0->azure-cognitiveservices-vision-customvision) (2018.11.29)\nRequirement already satisfied: requests-oauthlib>=0.5.0 in /home/nbuser/anaconda3_420/lib/python3.5/site-packages (from msrest>=0.5.0->azure-cognitiveservices-vision-customvision) (1.2.0)\nRequirement already satisfied: isodate>=0.6.0 in /home/nbuser/anaconda3_420/lib/python3.5/site-packages (from msrest>=0.5.0->azure-cognitiveservices-vision-customvision) (0.6.0)\nRequirement already satisfied: chardet<3.1.0,>=3.0.2 in /home/nbuser/anaconda3_420/lib/python3.5/site-packages (from requests~=2.16->msrest>=0.5.0->azure-cognitiveservices-vision-customvision) (3.0.4)\nRequirement already satisfied: urllib3<1.25,>=1.21.1 in /home/nbuser/anaconda3_420/lib/python3.5/site-packages (from requests~=2.16->msrest>=0.5.0->azure-cognitiveservices-vision-customvision) (1.24.1)\nRequirement already satisfied: idna<2.9,>=2.5 in /home/nbuser/anaconda3_420/lib/python3.5/site-packages (from requests~=2.16->msrest>=0.5.0->azure-cognitiveservices-vision-customvision) (2.8)\nRequirement already satisfied: oauthlib>=3.0.0 in /home/nbuser/anaconda3_420/lib/python3.5/site-packages (from requests-oauthlib>=0.5.0->msrest>=0.5.0->azure-cognitiveservices-vision-customvision) (3.0.0)\nRequirement already satisfied: six in /home/nbuser/anaconda3_420/lib/python3.5/site-packages (from isodate>=0.6.0->msrest>=0.5.0->azure-cognitiveservices-vision-customvision) (1.11.0)\n",
          "name": "stdout"
        }
      ]
    },
    {
      "metadata": {
        "trusted": true
      },
      "cell_type": "code",
      "source": "#Create Custom Vision Service Project\nfrom azure.cognitiveservices.vision.customvision.training import CustomVisionTrainingClient\nfrom azure.cognitiveservices.vision.customvision.training.models import ImageFileCreateEntry, Region\n\nENDPOINT = \"https://southcentralus.api.cognitive.microsoft.com\"\n\n# My Custom Vision AI Keys\ntraining_key = \"MY_TRAINING_KEY\"\nprediction_key = \"MY_PREDICTION_KEY\"\n\ntrainer = CustomVisionTrainingClient(training_key, endpoint=ENDPOINT)\n\n# Find the object detection domain\nobj_detection_domain = next(domain for domain in trainer.get_domains() if domain.type == \"ObjectDetection\")\n\n# Create a new project\nprint (\"Creating project...\")\nproject = trainer.create_project(\"OfficeDrink\", domain_id=obj_detection_domain.id)",
      "execution_count": 26,
      "outputs": [
        {
          "output_type": "stream",
          "text": "Creating project...\n",
          "name": "stdout"
        }
      ]
    },
    {
      "metadata": {
        "trusted": true
      },
      "cell_type": "code",
      "source": "import json\nimport os\nimport sys\n\n#FileName of your folder and jsonfile created by VoTT\nFileName = \"Office\"\n\n#import the json file\njson_file = FileName + \".json\"\nwith open(json_file,'r',encoding=\"utf-8\") as f:\n    data = json.load(f)\n\n#import all tags in json file\ninputTags = data[\"inputTags\"].split(\",\")\nprint(inputTags)",
      "execution_count": 27,
      "outputs": [
        {
          "output_type": "stream",
          "text": "['Tea', 'TurkishCoffee']\n",
          "name": "stdout"
        }
      ]
    },
    {
      "metadata": {
        "trusted": true
      },
      "cell_type": "code",
      "source": "#Create all Tags\nfor tag in inputTags:\n    trainer.create_tag(project.id, tag)\n    print(tag)",
      "execution_count": 28,
      "outputs": [
        {
          "output_type": "stream",
          "text": "Tea\nTurkishCoffee\n",
          "name": "stdout"
        }
      ]
    },
    {
      "metadata": {
        "trusted": true
      },
      "cell_type": "code",
      "source": "imgtags = {}\n\n#Get all tagsIDs created on custom vision and add into a dictionary\nfor tag in trainer.get_tags(project.id):\n    imgtags[tag.name] = tag.id\n\nprint(imgtags)",
      "execution_count": 29,
      "outputs": [
        {
          "output_type": "stream",
          "text": "{'TurkishCoffee': '1db90cae-6c57-4bd4-a44f-fa7a7d7e3f2d', 'Tea': '986a6b45-62f0-424c-87b9-53da918076cf'}\n",
          "name": "stdout"
        }
      ]
    },
    {
      "metadata": {
        "trusted": true
      },
      "cell_type": "code",
      "source": "#Help to sort alphanumeric\nimport re\n\ndef sorted_aphanumeric(data):\n    convert = lambda text: int(text) if text.isdigit() else text.lower()\n    alphanum_key = lambda key: [ convert(c) for c in re.split('([0-9]+)', key) ] \n    return sorted(data, key=alphanum_key)",
      "execution_count": 30,
      "outputs": []
    },
    {
      "metadata": {
        "trusted": true
      },
      "cell_type": "code",
      "source": "imgtagdic = {}\n\n# Group all the photos by tags using their ROIs(Region of Images)\n# image pixel normalization for Custom Vision\n# tleft = x1/w \n# ttop = y1/h\n# twidth = (x2-x1)/w\n# theight = (y2-y1)/h\nfor a in data[\"visitedFrames\"]:\n    print(a)\n    try:\n        for key in data[\"frames\"][str(a)]:\n            print(key)\n            x1 = key[\"x1\"]\n            y1 = key[\"y1\"]\n            x2 = key[\"x2\"]\n            y2 = key[\"y2\"]        \n            h = key[\"height\"]\n            w = key[\"width\"]\n            tleft = x1/w \n            ttop = y1/h\n            twidth = (x2-x1)/w\n            theight = (y2-y1)/h\n            try:\n                tag = key[\"tags\"][0]\n                # Defining UniqueID per tags in photo below  \n                imgtagdic[str(a)+','+ str(key[\"name\"])+ tag] = [imgtags[tag],tleft,ttop,twidth,theight]\n            except:\n                print(str(a)+ tag +\"error\")\n    except:\n        print(\"Error Occured\")\n\n#Print all \nprint(imgtagdic)",
      "execution_count": 31,
      "outputs": [
        {
          "output_type": "stream",
          "text": "0\n{'width': 789, 'tags': ['Tea'], 'x2': 547, 'y1': 78, 'type': 'Rectangle', 'height': 592, 'y2': 404, 'id': 0, 'x1': 94, 'name': 1}\n{'width': 789, 'tags': ['TurkishCoffee'], 'x2': 553, 'y1': 123, 'type': 'Rectangle', 'height': 592, 'y2': 498, 'id': 52, 'x1': 68, 'name': 1}\n1\n{'width': 789, 'tags': ['Tea'], 'x2': 564, 'y1': 131, 'type': 'Rectangle', 'height': 592, 'y2': 478, 'id': 1, 'x1': 87, 'name': 1}\n2\n{'width': 789, 'tags': ['Tea'], 'x2': 550, 'y1': 139, 'type': 'Rectangle', 'height': 592, 'y2': 488, 'id': 2, 'x1': 87, 'name': 1}\n3\n{'width': 789, 'tags': ['Tea'], 'x2': 553, 'y1': 123, 'type': 'Rectangle', 'height': 592, 'y2': 498, 'id': 3, 'x1': 68, 'name': 1}\n4\n{'width': 789, 'tags': ['Tea'], 'x2': 564, 'y1': 143, 'type': 'Rectangle', 'height': 592, 'y2': 408, 'id': 4, 'x1': 162, 'name': 1}\n5\n{'width': 789, 'tags': ['Tea'], 'x2': 517, 'y1': 178, 'type': 'Rectangle', 'height': 592, 'y2': 491, 'id': 5, 'x1': 74, 'name': 1}\n6\n{'width': 789, 'tags': ['Tea'], 'x2': 515, 'y1': 163, 'type': 'Rectangle', 'height': 592, 'y2': 440, 'id': 6, 'x1': 124, 'name': 1}\n7\n{'width': 789, 'tags': ['Tea'], 'x2': 455, 'y1': 181, 'type': 'Rectangle', 'height': 592, 'y2': 388, 'id': 7, 'x1': 148, 'name': 1}\n8\n{'width': 789, 'tags': ['Tea'], 'x2': 537, 'y1': 185, 'type': 'Rectangle', 'height': 592, 'y2': 387, 'id': 8, 'x1': 226, 'name': 1}\n9\n{'width': 789, 'tags': ['Tea'], 'x2': 509, 'y1': 201, 'type': 'Rectangle', 'height': 592, 'y2': 407, 'id': 9, 'x1': 199, 'name': 1}\n10\n{'width': 789, 'tags': ['Tea'], 'x2': 541, 'y1': 173, 'type': 'Rectangle', 'height': 592, 'y2': 424, 'id': 10, 'x1': 167, 'name': 1}\n11\n{'width': 789, 'tags': ['Tea'], 'x2': 545, 'y1': 163, 'type': 'Rectangle', 'height': 592, 'y2': 406, 'id': 11, 'x1': 178, 'name': 1}\n12\n{'width': 772, 'tags': ['Tea'], 'x2': 533.5, 'y1': 177, 'type': 'Rectangle', 'height': 579, 'y2': 392, 'id': 12, 'x1': 207.5, 'name': 1}\n13\n{'width': 789, 'tags': ['Tea'], 'x2': 510, 'y1': 142, 'type': 'Rectangle', 'height': 592, 'y2': 450, 'id': 13, 'x1': 66, 'name': 1}\n14\n{'width': 789, 'tags': ['Tea'], 'x2': 589, 'y1': 156, 'type': 'Rectangle', 'height': 592, 'y2': 472, 'id': 14, 'x1': 126, 'name': 1}\n15\n{'width': 526, 'tags': ['Tea'], 'x2': 381, 'y1': 101, 'type': 'Rectangle', 'height': 395, 'y2': 296, 'id': 15, 'x1': 132, 'name': 1}\n16\n{'width': 789, 'tags': ['Tea'], 'x2': 499, 'y1': 114, 'type': 'Rectangle', 'height': 592, 'y2': 413, 'id': 16, 'x1': 104, 'name': 1}\n17\n{'width': 789, 'tags': ['Tea'], 'x2': 504, 'y1': 230, 'type': 'Rectangle', 'height': 592, 'y2': 347, 'id': 17, 'x1': 317, 'name': 1}\n18\n{'width': 789, 'tags': ['Tea'], 'x2': 449, 'y1': 177, 'type': 'Rectangle', 'height': 592, 'y2': 378, 'id': 18, 'x1': 164, 'name': 1}\n19\n{'width': 789, 'tags': ['Tea'], 'x2': 541, 'y1': 171, 'type': 'Rectangle', 'height': 592, 'y2': 405, 'id': 19, 'x1': 207, 'name': 1}\n20\n{'width': 789, 'tags': ['Tea'], 'x2': 575, 'y1': 180, 'type': 'Rectangle', 'height': 592, 'y2': 387, 'id': 20, 'x1': 255, 'name': 1}\n21\n{'width': 789, 'tags': ['Tea'], 'x2': 518, 'y1': 171, 'type': 'Rectangle', 'height': 592, 'y2': 343, 'id': 21, 'x1': 254, 'name': 1}\n22\n{'width': 789, 'tags': ['Tea'], 'x2': 540, 'y1': 211, 'type': 'Rectangle', 'height': 592, 'y2': 405, 'id': 22, 'x1': 259, 'name': 1}\n23\n{'width': 789, 'tags': ['Tea'], 'x2': 565, 'y1': 123, 'type': 'Rectangle', 'height': 592, 'y2': 421, 'id': 23, 'x1': 149, 'name': 1}\n24\n{'width': 772, 'tags': ['TurkishCoffee'], 'x2': 448.5, 'y1': 128, 'type': 'Rectangle', 'height': 579, 'y2': 369, 'id': 24, 'x1': 205.5, 'name': 1}\n26\n{'width': 789, 'tags': ['TurkishCoffee'], 'x2': 505, 'y1': 38, 'type': 'Rectangle', 'height': 592, 'y2': 462, 'id': 26, 'x1': 162, 'name': 1}\n27\n{'width': 750, 'tags': ['TurkishCoffee'], 'x2': 446, 'y1': 5, 'type': 'Rectangle', 'height': 563, 'y2': 409, 'id': 27, 'x1': 130, 'name': 1}\n28\n{'width': 789, 'tags': ['TurkishCoffee'], 'x2': 478, 'y1': 57, 'type': 'Rectangle', 'height': 592, 'y2': 430, 'id': 28, 'x1': 180, 'name': 1}\n29\n{'width': 789, 'tags': ['TurkishCoffee'], 'x2': 635, 'y1': 43, 'type': 'Rectangle', 'height': 592, 'y2': 347, 'id': 29, 'x1': 238, 'name': 1}\n30\n{'width': 789, 'tags': ['TurkishCoffee'], 'x2': 584, 'y1': 73, 'type': 'Rectangle', 'height': 592, 'y2': 386, 'id': 30, 'x1': 193, 'name': 1}\n31\n{'width': 772, 'tags': ['TurkishCoffee'], 'x2': 492.5, 'y1': 31, 'type': 'Rectangle', 'height': 579, 'y2': 330, 'id': 31, 'x1': 163.5, 'name': 1}\n32\n{'width': 772, 'tags': ['TurkishCoffee'], 'x2': 553.5, 'y1': 49, 'type': 'Rectangle', 'height': 579, 'y2': 351, 'id': 32, 'x1': 207.5, 'name': 1}\n33\n{'width': 772, 'tags': ['TurkishCoffee'], 'x2': 465.5, 'y1': 34, 'type': 'Rectangle', 'height': 579, 'y2': 330, 'id': 33, 'x1': 89.5, 'name': 1}\n34\n{'width': 772, 'tags': ['TurkishCoffee'], 'x2': 592.5, 'y1': 40, 'type': 'Rectangle', 'height': 579, 'y2': 357, 'id': 34, 'x1': 165.5, 'name': 1}\n35\n{'width': 772, 'tags': ['TurkishCoffee'], 'x2': 453.5, 'y1': 95, 'type': 'Rectangle', 'height': 579, 'y2': 527, 'id': 35, 'x1': 127.5, 'name': 1}\n36\n{'width': 772, 'tags': ['TurkishCoffee'], 'x2': 469.5, 'y1': 37, 'type': 'Rectangle', 'height': 579, 'y2': 560, 'id': 36, 'x1': 82.5, 'name': 1}\n37\n{'width': 772, 'tags': ['TurkishCoffee'], 'x2': 431.5, 'y1': 150, 'type': 'Rectangle', 'height': 579, 'y2': 442, 'id': 37, 'x1': 187.5, 'name': 1}\n38\n{'width': 772, 'tags': ['TurkishCoffee'], 'x2': 354.5, 'y1': 140, 'type': 'Rectangle', 'height': 579, 'y2': 370, 'id': 38, 'x1': 163.5, 'name': 1}\n39\n{'width': 772, 'tags': ['TurkishCoffee'], 'x2': 586.5, 'y1': 51, 'type': 'Rectangle', 'height': 579, 'y2': 312, 'id': 39, 'x1': 332.5, 'name': 1}\n40\n{'width': 772, 'tags': ['TurkishCoffee'], 'x2': 550.5, 'y1': 84, 'type': 'Rectangle', 'height': 579, 'y2': 368, 'id': 40, 'x1': 245.5, 'name': 1}\n41\n{'width': 772, 'tags': ['TurkishCoffee'], 'x2': 518.5, 'y1': 60, 'type': 'Rectangle', 'height': 579, 'y2': 282, 'id': 41, 'x1': 307.5, 'name': 1}\n42\n{'width': 772, 'tags': ['TurkishCoffee'], 'x2': 467.5, 'y1': 46, 'type': 'Rectangle', 'height': 579, 'y2': 299, 'id': 42, 'x1': 232.5, 'name': 1}\n43\n{'width': 772, 'tags': ['TurkishCoffee'], 'x2': 395.5, 'y1': 172, 'type': 'Rectangle', 'height': 579, 'y2': 459, 'id': 43, 'x1': 140.5, 'name': 1}\n44\n{'width': 750, 'tags': ['TurkishCoffee'], 'x2': 457, 'y1': 111, 'type': 'Rectangle', 'height': 563, 'y2': 526, 'id': 44, 'x1': 135, 'name': 1}\n45\n{'width': 750, 'tags': ['TurkishCoffee'], 'x2': 425, 'y1': 7, 'type': 'Rectangle', 'height': 563, 'y2': 397, 'id': 45, 'x1': 59, 'name': 1}\n25\n{'width': 789, 'tags': ['TurkishCoffee'], 'x2': 467, 'y1': 92, 'type': 'Rectangle', 'height': 592, 'y2': 478, 'id': 25, 'x1': 123, 'name': 1}\n{'2,1Tea': ['986a6b45-62f0-424c-87b9-53da918076cf', 0.11026615969581749, 0.23479729729729729, 0.5868187579214195, 0.589527027027027], '44,1TurkishCoffee': ['1db90cae-6c57-4bd4-a44f-fa7a7d7e3f2d', 0.18, 0.19715808170515098, 0.42933333333333334, 0.7371225577264654], '9,1Tea': ['986a6b45-62f0-424c-87b9-53da918076cf', 0.2522179974651457, 0.33952702702702703, 0.3929024081115336, 0.34797297297297297], '10,1Tea': ['986a6b45-62f0-424c-87b9-53da918076cf', 0.21166032953105196, 0.2922297297297297, 0.4740177439797212, 0.4239864864864865], '24,1TurkishCoffee': ['1db90cae-6c57-4bd4-a44f-fa7a7d7e3f2d', 0.2661917098445596, 0.22107081174438686, 0.31476683937823835, 0.4162348877374784], '12,1Tea': ['986a6b45-62f0-424c-87b9-53da918076cf', 0.26878238341968913, 0.30569948186528495, 0.422279792746114, 0.37132987910189985], '23,1Tea': ['986a6b45-62f0-424c-87b9-53da918076cf', 0.1888466413181242, 0.20777027027027026, 0.5272496831432193, 0.5033783783783784], '16,1Tea': ['986a6b45-62f0-424c-87b9-53da918076cf', 0.13181242078580482, 0.19256756756756757, 0.5006337135614702, 0.5050675675675675], '5,1Tea': ['986a6b45-62f0-424c-87b9-53da918076cf', 0.09378960709759189, 0.30067567567567566, 0.5614702154626109, 0.5287162162162162], '21,1Tea': ['986a6b45-62f0-424c-87b9-53da918076cf', 0.32192648922686945, 0.28885135135135137, 0.33460076045627374, 0.2905405405405405], '20,1Tea': ['986a6b45-62f0-424c-87b9-53da918076cf', 0.3231939163498099, 0.30405405405405406, 0.4055766793409379, 0.34966216216216217], '38,1TurkishCoffee': ['1db90cae-6c57-4bd4-a44f-fa7a7d7e3f2d', 0.21178756476683938, 0.24179620034542315, 0.24740932642487046, 0.39723661485319517], '32,1TurkishCoffee': ['1db90cae-6c57-4bd4-a44f-fa7a7d7e3f2d', 0.26878238341968913, 0.0846286701208981, 0.4481865284974093, 0.5215889464594128], '22,1Tea': ['986a6b45-62f0-424c-87b9-53da918076cf', 0.3282636248415716, 0.3564189189189189, 0.3561470215462611, 0.3277027027027027], '7,1Tea': ['986a6b45-62f0-424c-87b9-53da918076cf', 0.18757921419518378, 0.30574324324324326, 0.38910012674271227, 0.34966216216216217], '36,1TurkishCoffee': ['1db90cae-6c57-4bd4-a44f-fa7a7d7e3f2d', 0.10686528497409327, 0.06390328151986183, 0.5012953367875648, 0.9032815198618307], '37,1TurkishCoffee': ['1db90cae-6c57-4bd4-a44f-fa7a7d7e3f2d', 0.24287564766839378, 0.25906735751295334, 0.3160621761658031, 0.5043177892918825], '39,1TurkishCoffee': ['1db90cae-6c57-4bd4-a44f-fa7a7d7e3f2d', 0.43069948186528495, 0.08808290155440414, 0.3290155440414508, 0.45077720207253885], '26,1TurkishCoffee': ['1db90cae-6c57-4bd4-a44f-fa7a7d7e3f2d', 0.20532319391634982, 0.06418918918918919, 0.4347275031685678, 0.7162162162162162], '42,1TurkishCoffee': ['1db90cae-6c57-4bd4-a44f-fa7a7d7e3f2d', 0.3011658031088083, 0.07944732297063903, 0.30440414507772023, 0.4369602763385147], '25,1TurkishCoffee': ['1db90cae-6c57-4bd4-a44f-fa7a7d7e3f2d', 0.155893536121673, 0.1554054054054054, 0.43599493029150826, 0.652027027027027], '4,1Tea': ['986a6b45-62f0-424c-87b9-53da918076cf', 0.20532319391634982, 0.24155405405405406, 0.5095057034220533, 0.44763513513513514], '45,1TurkishCoffee': ['1db90cae-6c57-4bd4-a44f-fa7a7d7e3f2d', 0.07866666666666666, 0.012433392539964476, 0.488, 0.6927175843694494], '35,1TurkishCoffee': ['1db90cae-6c57-4bd4-a44f-fa7a7d7e3f2d', 0.16515544041450778, 0.16407599309153714, 0.422279792746114, 0.7461139896373057], '17,1Tea': ['986a6b45-62f0-424c-87b9-53da918076cf', 0.4017743979721166, 0.3885135135135135, 0.2370088719898606, 0.19763513513513514], '43,1TurkishCoffee': ['1db90cae-6c57-4bd4-a44f-fa7a7d7e3f2d', 0.18199481865284975, 0.2970639032815199, 0.33031088082901555, 0.49568221070811747], '14,1Tea': ['986a6b45-62f0-424c-87b9-53da918076cf', 0.1596958174904943, 0.2635135135135135, 0.5868187579214195, 0.5337837837837838], '34,1TurkishCoffee': ['1db90cae-6c57-4bd4-a44f-fa7a7d7e3f2d', 0.21437823834196892, 0.0690846286701209, 0.5531088082901554, 0.5474956822107081], '29,1TurkishCoffee': ['1db90cae-6c57-4bd4-a44f-fa7a7d7e3f2d', 0.30164765525982257, 0.07263513513513513, 0.5031685678073511, 0.5135135135135135], '33,1TurkishCoffee': ['1db90cae-6c57-4bd4-a44f-fa7a7d7e3f2d', 0.11593264248704663, 0.05872193436960276, 0.48704663212435234, 0.5112262521588946], '19,1Tea': ['986a6b45-62f0-424c-87b9-53da918076cf', 0.2623574144486692, 0.28885135135135137, 0.4233206590621039, 0.3952702702702703], '11,1Tea': ['986a6b45-62f0-424c-87b9-53da918076cf', 0.2256020278833967, 0.27533783783783783, 0.46514575411913817, 0.41047297297297297], '0,1TurkishCoffee': ['1db90cae-6c57-4bd4-a44f-fa7a7d7e3f2d', 0.08618504435994931, 0.20777027027027026, 0.614702154626109, 0.6334459459459459], '13,1Tea': ['986a6b45-62f0-424c-87b9-53da918076cf', 0.08365019011406843, 0.23986486486486486, 0.5627376425855514, 0.5202702702702703], '31,1TurkishCoffee': ['1db90cae-6c57-4bd4-a44f-fa7a7d7e3f2d', 0.21178756476683938, 0.0535405872193437, 0.4261658031088083, 0.5164075993091537], '18,1Tea': ['986a6b45-62f0-424c-87b9-53da918076cf', 0.20785804816223066, 0.2989864864864865, 0.3612167300380228, 0.33952702702702703], '1,1Tea': ['986a6b45-62f0-424c-87b9-53da918076cf', 0.11026615969581749, 0.22128378378378377, 0.6045627376425855, 0.5861486486486487], '27,1TurkishCoffee': ['1db90cae-6c57-4bd4-a44f-fa7a7d7e3f2d', 0.17333333333333334, 0.008880994671403197, 0.42133333333333334, 0.7175843694493783], '3,1Tea': ['986a6b45-62f0-424c-87b9-53da918076cf', 0.08618504435994931, 0.20777027027027026, 0.614702154626109, 0.6334459459459459], '6,1Tea': ['986a6b45-62f0-424c-87b9-53da918076cf', 0.15716096324461343, 0.27533783783783783, 0.4955640050697085, 0.46790540540540543], '41,1TurkishCoffee': ['1db90cae-6c57-4bd4-a44f-fa7a7d7e3f2d', 0.39831606217616583, 0.10362694300518134, 0.27331606217616583, 0.38341968911917096], '0,1Tea': ['986a6b45-62f0-424c-87b9-53da918076cf', 0.11913814955640051, 0.13175675675675674, 0.5741444866920152, 0.5506756756756757], '30,1TurkishCoffee': ['1db90cae-6c57-4bd4-a44f-fa7a7d7e3f2d', 0.24461343472750316, 0.12331081081081081, 0.4955640050697085, 0.5287162162162162], '40,1TurkishCoffee': ['1db90cae-6c57-4bd4-a44f-fa7a7d7e3f2d', 0.3180051813471503, 0.14507772020725387, 0.3950777202072539, 0.4905008635578584], '8,1Tea': ['986a6b45-62f0-424c-87b9-53da918076cf', 0.2864385297845374, 0.3125, 0.394169835234474, 0.34121621621621623], '28,1TurkishCoffee': ['1db90cae-6c57-4bd4-a44f-fa7a7d7e3f2d', 0.22813688212927757, 0.09628378378378379, 0.3776932826362484, 0.6300675675675675], '15,1Tea': ['986a6b45-62f0-424c-87b9-53da918076cf', 0.2509505703422053, 0.25569620253164554, 0.47338403041825095, 0.4936708860759494]}\n",
          "name": "stdout"
        }
      ]
    },
    {
      "metadata": {
        "trusted": true
      },
      "cell_type": "code",
      "source": "len(imgtagdic)",
      "execution_count": 32,
      "outputs": [
        {
          "output_type": "execute_result",
          "execution_count": 32,
          "data": {
            "text/plain": "47"
          },
          "metadata": {}
        }
      ]
    },
    {
      "metadata": {
        "trusted": true
      },
      "cell_type": "code",
      "source": "imgtagdic",
      "execution_count": 33,
      "outputs": [
        {
          "output_type": "execute_result",
          "execution_count": 33,
          "data": {
            "text/plain": "{'0,1Tea': ['986a6b45-62f0-424c-87b9-53da918076cf',\n  0.11913814955640051,\n  0.13175675675675674,\n  0.5741444866920152,\n  0.5506756756756757],\n '0,1TurkishCoffee': ['1db90cae-6c57-4bd4-a44f-fa7a7d7e3f2d',\n  0.08618504435994931,\n  0.20777027027027026,\n  0.614702154626109,\n  0.6334459459459459],\n '1,1Tea': ['986a6b45-62f0-424c-87b9-53da918076cf',\n  0.11026615969581749,\n  0.22128378378378377,\n  0.6045627376425855,\n  0.5861486486486487],\n '10,1Tea': ['986a6b45-62f0-424c-87b9-53da918076cf',\n  0.21166032953105196,\n  0.2922297297297297,\n  0.4740177439797212,\n  0.4239864864864865],\n '11,1Tea': ['986a6b45-62f0-424c-87b9-53da918076cf',\n  0.2256020278833967,\n  0.27533783783783783,\n  0.46514575411913817,\n  0.41047297297297297],\n '12,1Tea': ['986a6b45-62f0-424c-87b9-53da918076cf',\n  0.26878238341968913,\n  0.30569948186528495,\n  0.422279792746114,\n  0.37132987910189985],\n '13,1Tea': ['986a6b45-62f0-424c-87b9-53da918076cf',\n  0.08365019011406843,\n  0.23986486486486486,\n  0.5627376425855514,\n  0.5202702702702703],\n '14,1Tea': ['986a6b45-62f0-424c-87b9-53da918076cf',\n  0.1596958174904943,\n  0.2635135135135135,\n  0.5868187579214195,\n  0.5337837837837838],\n '15,1Tea': ['986a6b45-62f0-424c-87b9-53da918076cf',\n  0.2509505703422053,\n  0.25569620253164554,\n  0.47338403041825095,\n  0.4936708860759494],\n '16,1Tea': ['986a6b45-62f0-424c-87b9-53da918076cf',\n  0.13181242078580482,\n  0.19256756756756757,\n  0.5006337135614702,\n  0.5050675675675675],\n '17,1Tea': ['986a6b45-62f0-424c-87b9-53da918076cf',\n  0.4017743979721166,\n  0.3885135135135135,\n  0.2370088719898606,\n  0.19763513513513514],\n '18,1Tea': ['986a6b45-62f0-424c-87b9-53da918076cf',\n  0.20785804816223066,\n  0.2989864864864865,\n  0.3612167300380228,\n  0.33952702702702703],\n '19,1Tea': ['986a6b45-62f0-424c-87b9-53da918076cf',\n  0.2623574144486692,\n  0.28885135135135137,\n  0.4233206590621039,\n  0.3952702702702703],\n '2,1Tea': ['986a6b45-62f0-424c-87b9-53da918076cf',\n  0.11026615969581749,\n  0.23479729729729729,\n  0.5868187579214195,\n  0.589527027027027],\n '20,1Tea': ['986a6b45-62f0-424c-87b9-53da918076cf',\n  0.3231939163498099,\n  0.30405405405405406,\n  0.4055766793409379,\n  0.34966216216216217],\n '21,1Tea': ['986a6b45-62f0-424c-87b9-53da918076cf',\n  0.32192648922686945,\n  0.28885135135135137,\n  0.33460076045627374,\n  0.2905405405405405],\n '22,1Tea': ['986a6b45-62f0-424c-87b9-53da918076cf',\n  0.3282636248415716,\n  0.3564189189189189,\n  0.3561470215462611,\n  0.3277027027027027],\n '23,1Tea': ['986a6b45-62f0-424c-87b9-53da918076cf',\n  0.1888466413181242,\n  0.20777027027027026,\n  0.5272496831432193,\n  0.5033783783783784],\n '24,1TurkishCoffee': ['1db90cae-6c57-4bd4-a44f-fa7a7d7e3f2d',\n  0.2661917098445596,\n  0.22107081174438686,\n  0.31476683937823835,\n  0.4162348877374784],\n '25,1TurkishCoffee': ['1db90cae-6c57-4bd4-a44f-fa7a7d7e3f2d',\n  0.155893536121673,\n  0.1554054054054054,\n  0.43599493029150826,\n  0.652027027027027],\n '26,1TurkishCoffee': ['1db90cae-6c57-4bd4-a44f-fa7a7d7e3f2d',\n  0.20532319391634982,\n  0.06418918918918919,\n  0.4347275031685678,\n  0.7162162162162162],\n '27,1TurkishCoffee': ['1db90cae-6c57-4bd4-a44f-fa7a7d7e3f2d',\n  0.17333333333333334,\n  0.008880994671403197,\n  0.42133333333333334,\n  0.7175843694493783],\n '28,1TurkishCoffee': ['1db90cae-6c57-4bd4-a44f-fa7a7d7e3f2d',\n  0.22813688212927757,\n  0.09628378378378379,\n  0.3776932826362484,\n  0.6300675675675675],\n '29,1TurkishCoffee': ['1db90cae-6c57-4bd4-a44f-fa7a7d7e3f2d',\n  0.30164765525982257,\n  0.07263513513513513,\n  0.5031685678073511,\n  0.5135135135135135],\n '3,1Tea': ['986a6b45-62f0-424c-87b9-53da918076cf',\n  0.08618504435994931,\n  0.20777027027027026,\n  0.614702154626109,\n  0.6334459459459459],\n '30,1TurkishCoffee': ['1db90cae-6c57-4bd4-a44f-fa7a7d7e3f2d',\n  0.24461343472750316,\n  0.12331081081081081,\n  0.4955640050697085,\n  0.5287162162162162],\n '31,1TurkishCoffee': ['1db90cae-6c57-4bd4-a44f-fa7a7d7e3f2d',\n  0.21178756476683938,\n  0.0535405872193437,\n  0.4261658031088083,\n  0.5164075993091537],\n '32,1TurkishCoffee': ['1db90cae-6c57-4bd4-a44f-fa7a7d7e3f2d',\n  0.26878238341968913,\n  0.0846286701208981,\n  0.4481865284974093,\n  0.5215889464594128],\n '33,1TurkishCoffee': ['1db90cae-6c57-4bd4-a44f-fa7a7d7e3f2d',\n  0.11593264248704663,\n  0.05872193436960276,\n  0.48704663212435234,\n  0.5112262521588946],\n '34,1TurkishCoffee': ['1db90cae-6c57-4bd4-a44f-fa7a7d7e3f2d',\n  0.21437823834196892,\n  0.0690846286701209,\n  0.5531088082901554,\n  0.5474956822107081],\n '35,1TurkishCoffee': ['1db90cae-6c57-4bd4-a44f-fa7a7d7e3f2d',\n  0.16515544041450778,\n  0.16407599309153714,\n  0.422279792746114,\n  0.7461139896373057],\n '36,1TurkishCoffee': ['1db90cae-6c57-4bd4-a44f-fa7a7d7e3f2d',\n  0.10686528497409327,\n  0.06390328151986183,\n  0.5012953367875648,\n  0.9032815198618307],\n '37,1TurkishCoffee': ['1db90cae-6c57-4bd4-a44f-fa7a7d7e3f2d',\n  0.24287564766839378,\n  0.25906735751295334,\n  0.3160621761658031,\n  0.5043177892918825],\n '38,1TurkishCoffee': ['1db90cae-6c57-4bd4-a44f-fa7a7d7e3f2d',\n  0.21178756476683938,\n  0.24179620034542315,\n  0.24740932642487046,\n  0.39723661485319517],\n '39,1TurkishCoffee': ['1db90cae-6c57-4bd4-a44f-fa7a7d7e3f2d',\n  0.43069948186528495,\n  0.08808290155440414,\n  0.3290155440414508,\n  0.45077720207253885],\n '4,1Tea': ['986a6b45-62f0-424c-87b9-53da918076cf',\n  0.20532319391634982,\n  0.24155405405405406,\n  0.5095057034220533,\n  0.44763513513513514],\n '40,1TurkishCoffee': ['1db90cae-6c57-4bd4-a44f-fa7a7d7e3f2d',\n  0.3180051813471503,\n  0.14507772020725387,\n  0.3950777202072539,\n  0.4905008635578584],\n '41,1TurkishCoffee': ['1db90cae-6c57-4bd4-a44f-fa7a7d7e3f2d',\n  0.39831606217616583,\n  0.10362694300518134,\n  0.27331606217616583,\n  0.38341968911917096],\n '42,1TurkishCoffee': ['1db90cae-6c57-4bd4-a44f-fa7a7d7e3f2d',\n  0.3011658031088083,\n  0.07944732297063903,\n  0.30440414507772023,\n  0.4369602763385147],\n '43,1TurkishCoffee': ['1db90cae-6c57-4bd4-a44f-fa7a7d7e3f2d',\n  0.18199481865284975,\n  0.2970639032815199,\n  0.33031088082901555,\n  0.49568221070811747],\n '44,1TurkishCoffee': ['1db90cae-6c57-4bd4-a44f-fa7a7d7e3f2d',\n  0.18,\n  0.19715808170515098,\n  0.42933333333333334,\n  0.7371225577264654],\n '45,1TurkishCoffee': ['1db90cae-6c57-4bd4-a44f-fa7a7d7e3f2d',\n  0.07866666666666666,\n  0.012433392539964476,\n  0.488,\n  0.6927175843694494],\n '5,1Tea': ['986a6b45-62f0-424c-87b9-53da918076cf',\n  0.09378960709759189,\n  0.30067567567567566,\n  0.5614702154626109,\n  0.5287162162162162],\n '6,1Tea': ['986a6b45-62f0-424c-87b9-53da918076cf',\n  0.15716096324461343,\n  0.27533783783783783,\n  0.4955640050697085,\n  0.46790540540540543],\n '7,1Tea': ['986a6b45-62f0-424c-87b9-53da918076cf',\n  0.18757921419518378,\n  0.30574324324324326,\n  0.38910012674271227,\n  0.34966216216216217],\n '8,1Tea': ['986a6b45-62f0-424c-87b9-53da918076cf',\n  0.2864385297845374,\n  0.3125,\n  0.394169835234474,\n  0.34121621621621623],\n '9,1Tea': ['986a6b45-62f0-424c-87b9-53da918076cf',\n  0.2522179974651457,\n  0.33952702702702703,\n  0.3929024081115336,\n  0.34797297297297297]}"
          },
          "metadata": {}
        }
      ]
    },
    {
      "metadata": {
        "trusted": true
      },
      "cell_type": "code",
      "source": "import os\n\nallphotos = sorted_aphanumeric(os.listdir(FileName+ \"/\"))\n\n# Go through the data table above and create the images\nprint (\"images are ready\")",
      "execution_count": 34,
      "outputs": [
        {
          "output_type": "stream",
          "text": "images are ready\n",
          "name": "stdout"
        }
      ]
    },
    {
      "metadata": {
        "trusted": true
      },
      "cell_type": "code",
      "source": "print(len(allphotos))",
      "execution_count": 35,
      "outputs": [
        {
          "output_type": "stream",
          "text": "46\n",
          "name": "stdout"
        }
      ]
    },
    {
      "metadata": {
        "scrolled": true,
        "trusted": true
      },
      "cell_type": "code",
      "source": "print(allphotos)",
      "execution_count": 36,
      "outputs": [
        {
          "output_type": "stream",
          "text": "['IMG_0758.JPG', 'IMG_0759.JPG', 'IMG_0760.JPG', 'IMG_0761.JPG', 'IMG_0762.JPG', 'IMG_0763.JPG', 'IMG_0764.JPG', 'IMG_0765.JPG', 'IMG_0766.JPG', 'IMG_0767.JPG', 'IMG_0768.JPG', 'IMG_0769.JPG', 'IMG_0770.JPG', 'IMG_0771.JPG', 'IMG_0772.JPG', 'IMG_0773.JPG', 'IMG_0774.JPG', 'IMG_0775.JPG', 'IMG_0776.JPG', 'IMG_0777.JPG', 'IMG_0778.JPG', 'IMG_0779.JPG', 'IMG_0780.JPG', 'IMG_0781.JPG', 'IMG_0782.JPG', 'IMG_0784.JPG', 'IMG_0785.JPG', 'IMG_0786.JPG', 'IMG_0787.JPG', 'IMG_0788.JPG', 'IMG_0789.JPG', 'IMG_0790.JPG', 'IMG_0791.JPG', 'IMG_0792.JPG', 'IMG_0793.JPG', 'IMG_0794.JPG', 'IMG_0795.JPG', 'IMG_0796.JPG', 'IMG_0797.JPG', 'IMG_0798.JPG', 'IMG_0799.JPG', 'IMG_0800.JPG', 'IMG_0801.JPG', 'IMG_0802.JPG', 'IMG_0803.JPG', 'IMG_0804.JPG']\n",
          "name": "stdout"
        }
      ]
    },
    {
      "metadata": {
        "trusted": true
      },
      "cell_type": "code",
      "source": "tagged_images_with_regions = []\n\nfor key in sorted_aphanumeric(imgtagdic):\n    tagid,x,y,w,h = imgtagdic[key]\n    regions = [ Region(tag_id=tagid, left=x,top=y,width=w,height=h) ]\n\n    try:\n        print(key.replace(',','-'), len(regions))\n        print(key + \" / \" + allphotos[int(key.split(',')[0])])\n        print(\"-----\")\n        with open(FileName+\"/\" + allphotos[int(key.split(',')[0])], mode=\"rb\") as image_contents:\n            tagged_images_with_regions.append(ImageFileCreateEntry(name=key.replace(',','-'), contents=image_contents.read(), regions=regions))\n    except:\n        print(\"Error occured\")\n",
      "execution_count": 43,
      "outputs": [
        {
          "output_type": "stream",
          "text": "0-1Tea 1\n0,1Tea / IMG_0758.JPG\n-----\n0-1TurkishCoffee 1\n0,1TurkishCoffee / IMG_0758.JPG\n-----\n1-1Tea 1\n1,1Tea / IMG_0759.JPG\n-----\n2-1Tea 1\n2,1Tea / IMG_0760.JPG\n-----\n3-1Tea 1\n3,1Tea / IMG_0761.JPG\n-----\n4-1Tea 1\n4,1Tea / IMG_0762.JPG\n-----\n5-1Tea 1\n5,1Tea / IMG_0763.JPG\n-----\n6-1Tea 1\n6,1Tea / IMG_0764.JPG\n-----\n7-1Tea 1\n7,1Tea / IMG_0765.JPG\n-----\n8-1Tea 1\n8,1Tea / IMG_0766.JPG\n-----\n9-1Tea 1\n9,1Tea / IMG_0767.JPG\n-----\n10-1Tea 1\n10,1Tea / IMG_0768.JPG\n-----\n11-1Tea 1\n11,1Tea / IMG_0769.JPG\n-----\n12-1Tea 1\n12,1Tea / IMG_0770.JPG\n-----\n13-1Tea 1\n13,1Tea / IMG_0771.JPG\n-----\n14-1Tea 1\n14,1Tea / IMG_0772.JPG\n-----\n15-1Tea 1\n15,1Tea / IMG_0773.JPG\n-----\n16-1Tea 1\n16,1Tea / IMG_0774.JPG\n-----\n17-1Tea 1\n17,1Tea / IMG_0775.JPG\n-----\n18-1Tea 1\n18,1Tea / IMG_0776.JPG\n-----\n19-1Tea 1\n19,1Tea / IMG_0777.JPG\n-----\n20-1Tea 1\n20,1Tea / IMG_0778.JPG\n-----\n21-1Tea 1\n21,1Tea / IMG_0779.JPG\n-----\n22-1Tea 1\n22,1Tea / IMG_0780.JPG\n-----\n23-1Tea 1\n23,1Tea / IMG_0781.JPG\n-----\n24-1TurkishCoffee 1\n24,1TurkishCoffee / IMG_0782.JPG\n-----\n25-1TurkishCoffee 1\n25,1TurkishCoffee / IMG_0784.JPG\n-----\n26-1TurkishCoffee 1\n26,1TurkishCoffee / IMG_0785.JPG\n-----\n27-1TurkishCoffee 1\n27,1TurkishCoffee / IMG_0786.JPG\n-----\n28-1TurkishCoffee 1\n28,1TurkishCoffee / IMG_0787.JPG\n-----\n29-1TurkishCoffee 1\n29,1TurkishCoffee / IMG_0788.JPG\n-----\n30-1TurkishCoffee 1\n30,1TurkishCoffee / IMG_0789.JPG\n-----\n31-1TurkishCoffee 1\n31,1TurkishCoffee / IMG_0790.JPG\n-----\n32-1TurkishCoffee 1\n32,1TurkishCoffee / IMG_0791.JPG\n-----\n33-1TurkishCoffee 1\n33,1TurkishCoffee / IMG_0792.JPG\n-----\n34-1TurkishCoffee 1\n34,1TurkishCoffee / IMG_0793.JPG\n-----\n35-1TurkishCoffee 1\n35,1TurkishCoffee / IMG_0794.JPG\n-----\n36-1TurkishCoffee 1\n36,1TurkishCoffee / IMG_0795.JPG\n-----\n37-1TurkishCoffee 1\n37,1TurkishCoffee / IMG_0796.JPG\n-----\n38-1TurkishCoffee 1\n38,1TurkishCoffee / IMG_0797.JPG\n-----\n39-1TurkishCoffee 1\n39,1TurkishCoffee / IMG_0798.JPG\n-----\n40-1TurkishCoffee 1\n40,1TurkishCoffee / IMG_0799.JPG\n-----\n41-1TurkishCoffee 1\n41,1TurkishCoffee / IMG_0800.JPG\n-----\n42-1TurkishCoffee 1\n42,1TurkishCoffee / IMG_0801.JPG\n-----\n43-1TurkishCoffee 1\n43,1TurkishCoffee / IMG_0802.JPG\n-----\n44-1TurkishCoffee 1\n44,1TurkishCoffee / IMG_0803.JPG\n-----\n45-1TurkishCoffee 1\n45,1TurkishCoffee / IMG_0804.JPG\n-----\n",
          "name": "stdout"
        }
      ]
    },
    {
      "metadata": {
        "trusted": true
      },
      "cell_type": "code",
      "source": "len(tagged_images_with_regions)",
      "execution_count": 38,
      "outputs": [
        {
          "output_type": "execute_result",
          "execution_count": 38,
          "data": {
            "text/plain": "47"
          },
          "metadata": {}
        }
      ]
    },
    {
      "metadata": {
        "trusted": true
      },
      "cell_type": "code",
      "source": "# For large photosets\n# Upload all photos with groups of 10 photos  \nfor a in range(int(len(tagged_images_with_regions)/10)+1):  \n        print(\"Progress: \" + str(a) +\"/\"+str(int(len(tagged_images_with_regions)/10)))\n        trainer.create_images_from_files(project.id, images=tagged_images_with_regions[(a*10):((a*10)+10)])\n        ",
      "execution_count": 39,
      "outputs": [
        {
          "output_type": "stream",
          "text": "Progress: 0/4\nProgress: 1/4\nProgress: 2/4\nProgress: 3/4\nProgress: 4/4\n",
          "name": "stdout"
        }
      ]
    },
    {
      "metadata": {
        "trusted": true
      },
      "cell_type": "code",
      "source": "# Training part of the project\n# Just make sure everyphoto has minimum 15 photos\n# If not it'll breake\nimport time\n\nprint (\"Training...\")\niteration = trainer.train_project(project.id)\nwhile (iteration.status != \"Completed\"):\n    iteration = trainer.get_iteration(project.id, iteration.id)\n    print (\"Training status: \" + iteration.status)\n    time.sleep(1)\n\n# The iteration is now trained. Make it the default project endpoint\ntrainer.update_iteration(project.id, iteration.id, is_default=True)\nprint (\"Done!\")",
      "execution_count": 40,
      "outputs": [
        {
          "output_type": "stream",
          "text": "Training...\nTraining status: Training\nTraining status: Training\nTraining status: Training\nTraining status: Training\nTraining status: Training\nTraining status: Training\nTraining status: Training\nTraining status: Training\nTraining status: Training\nTraining status: Training\nTraining status: Training\nTraining status: Training\nTraining status: Training\nTraining status: Training\nTraining status: Training\nTraining status: Training\nTraining status: Training\nTraining status: Training\nTraining status: Training\nTraining status: Training\nTraining status: Training\nTraining status: Training\nTraining status: Training\nTraining status: Training\nTraining status: Training\nTraining status: Training\nTraining status: Training\nTraining status: Training\nTraining status: Training\nTraining status: Training\nTraining status: Training\nTraining status: Training\nTraining status: Training\nTraining status: Training\nTraining status: Training\nTraining status: Training\nTraining status: Training\nTraining status: Training\nTraining status: Training\nTraining status: Training\nTraining status: Training\nTraining status: Training\nTraining status: Training\nTraining status: Training\nTraining status: Training\nTraining status: Training\nTraining status: Training\nTraining status: Training\nTraining status: Training\nTraining status: Training\nTraining status: Training\nTraining status: Training\nTraining status: Training\nTraining status: Training\nTraining status: Training\nTraining status: Training\nTraining status: Training\nTraining status: Training\nTraining status: Training\nTraining status: Training\nTraining status: Training\nTraining status: Training\nTraining status: Training\nTraining status: Training\nTraining status: Completed\nDone!\n",
          "name": "stdout"
        }
      ]
    },
    {
      "metadata": {
        "trusted": true
      },
      "cell_type": "code",
      "source": "from azure.cognitiveservices.vision.customvision.prediction import CustomVisionPredictionClient\n\n# Now there is a trained endpoint that can be used to make a prediction\npredictor = CustomVisionPredictionClient(prediction_key, endpoint=ENDPOINT)\n\n# Open the sample image and get back the prediction results.\nwith open(\"test.jpeg\", mode=\"rb\") as test_data:\n    results = predictor.predict_image(project.id, test_data, iteration.id)\n\n# Display the results.\nfor prediction in results.predictions:\n    print (\"\\t\" + prediction.tag_name + \": {0:.2f}%\".format(prediction.probability * 100), prediction.bounding_box.left, prediction.bounding_box.top, prediction.bounding_box.width, prediction.bounding_box.height)",
      "execution_count": 41,
      "outputs": [
        {
          "output_type": "stream",
          "text": "\tTurkishCoffee: 94.15% 0.4842975 0.127631515 0.378270984 0.681416631\n\tTurkishCoffee: 93.35% 0.02848728 0.226901934 0.337339163 0.363547981\n",
          "name": "stdout"
        }
      ]
    },
    {
      "metadata": {
        "trusted": false
      },
      "cell_type": "code",
      "source": "",
      "execution_count": null,
      "outputs": []
    }
  ],
  "metadata": {
    "kernelspec": {
      "name": "python3",
      "display_name": "Python 3",
      "language": "python"
    },
    "language_info": {
      "mimetype": "text/x-python",
      "nbconvert_exporter": "python",
      "name": "python",
      "file_extension": ".py",
      "version": "3.5.4",
      "pygments_lexer": "ipython3",
      "codemirror_mode": {
        "version": 3,
        "name": "ipython"
      }
    }
  },
  "nbformat": 4,
  "nbformat_minor": 2
}